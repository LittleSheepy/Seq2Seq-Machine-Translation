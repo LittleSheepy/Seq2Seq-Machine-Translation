{
 "cells": [
  {
   "cell_type": "markdown",
   "metadata": {
    "id": "LatQeUdVWyIp"
   },
   "source": [
    "## Imports:"
   ]
  },
  {
   "cell_type": "code",
   "execution_count": 1,
   "metadata": {
    "id": "Dnhxau3gWvjF"
   },
   "outputs": [],
   "source": [
    "import re\n",
    "import random\n",
    "import torch\n",
    "import torch.nn as nn\n",
    "import torch.nn.functional as F\n",
    "from torch import optim\n",
    "from sklearn.model_selection import train_test_split\n",
    "from tqdm import tqdm\n",
    "from torchmetrics import BLEUScore\n",
    "import matplotlib.pyplot as plt\n",
    "import seaborn as sns\n",
    "device = torch.device(\"cuda\" if torch.cuda.is_available() else \"cpu\")"
   ]
  },
  {
   "cell_type": "markdown",
   "metadata": {
    "id": "ZEWD_JxCqzjL"
   },
   "source": [
    "## Constants:"
   ]
  },
  {
   "cell_type": "code",
   "execution_count": 2,
   "metadata": {
    "id": "4urbl34pq110"
   },
   "outputs": [],
   "source": [
    "# Index values for start and end of sentence tokens\n",
    "SOS_TOKEN = 0\n",
    "EOS_TOKEN = 1\n",
    "\n",
    "# Maximum length of sentence to create a one-hot vector\n",
    "MAX_WORDS = 5"
   ]
  },
  {
   "cell_type": "markdown",
   "metadata": {
    "id": "nJD5e9DKeoli"
   },
   "source": [
    "## Loading and Preparing Data:"
   ]
  },
  {
   "cell_type": "code",
   "execution_count": 3,
   "metadata": {
    "id": "53CfA-3BX3wX"
   },
   "outputs": [],
   "source": [
    "# Language class\n",
    "class Language:\n",
    "\n",
    "  def __init__(self, name):\n",
    "    self.name = name\n",
    "    self.word_counts = {}\n",
    "    self.word_to_index = {}\n",
    "    self.index_to_word = {SOS_TOKEN: \"SOS\", EOS_TOKEN: \"EOS\"}\n",
    "    self.n_words = 2; # Count of SOS and EOS\n",
    "\n",
    "  # Method to add words in language\n",
    "  def add_word(self, word):\n",
    "    if word not in self.word_to_index:\n",
    "      self.word_to_index[word] = self.n_words;\n",
    "      self.index_to_word[self.n_words] = word;\n",
    "      self.word_counts[word] = 1\n",
    "      self.n_words += 1\n",
    "    else:\n",
    "      self.word_counts[word] += 1\n",
    "\n",
    "  # Method to add sentence in language\n",
    "  def add_sentence(self, sentence):\n",
    "    for word in sentence.split(\" \"):\n",
    "      self.add_word(word)"
   ]
  },
  {
   "cell_type": "code",
   "execution_count": 4,
   "metadata": {
    "id": "n6LAK1TerScZ"
   },
   "outputs": [],
   "source": [
    "# Function to read sentences from file\n",
    "def read_sentences_from_file(file_path):\n",
    "  with open(file_path, encoding=\"utf-8\") as in_file:\n",
    "    lines = in_file.readlines()\n",
    "    lines = [line.replace(\"\\n\", \"\") for line in lines]\n",
    "  return lines\n",
    "\n",
    "# Function to normalize sentence (Lowercase, trim, and remove non-letter characters)\n",
    "def normalize_sentence(sentence):\n",
    "  sentence = re.sub(r\"([.!?])\", r\" \\1\", sentence)\n",
    "  sentence = re.sub(r\"[^a-zA-Z.!?]+\", r\" \", sentence)\n",
    "  return sentence"
   ]
  },
  {
   "cell_type": "code",
   "execution_count": 5,
   "metadata": {
    "id": "ClyaehbdeEC9"
   },
   "outputs": [],
   "source": [
    "# Function to read languages from files\n",
    "def read_languages(language1_name, language2_name, reverse=False):\n",
    "  \n",
    "  # Reading sentences of both languages\n",
    "  language1_sentences = read_sentences_from_file(language1_name + \".txt\")\n",
    "  language2_sentences = read_sentences_from_file(language2_name + \".txt\")\n",
    "\n",
    "  # Creating pairs of sentences\n",
    "  sentence_pairs = []\n",
    "  for i in range(len(language1_sentences)):\n",
    "    sentence_pairs.append([normalize_sentence(language1_sentences[i]), language2_sentences[i]])\n",
    "\n",
    "  # Creating language instances\n",
    "  if not reverse:\n",
    "    input_language = Language(language2_name)\n",
    "    output_language = Language(language1_name)\n",
    "  else:\n",
    "    sentence_pairs = [list(reversed(sentence_pair)) for sentence_pair in sentence_pairs]\n",
    "    input_language = Language(language1_name)\n",
    "    output_language = Language(language2_name)\n",
    "\n",
    "  return input_language, output_language, sentence_pairs"
   ]
  },
  {
   "cell_type": "code",
   "execution_count": 6,
   "metadata": {
    "id": "8BtFAf9NrfPa"
   },
   "outputs": [],
   "source": [
    "# Function to filter sentence pairs with maximim wordS defined\n",
    "def filter_sentence_pairs(sentence_pairs):\n",
    "  updated_sentence_pairs = []\n",
    "  for sentence_pair in sentence_pairs:\n",
    "    if len(sentence_pair[0].split(\" \")) < MAX_WORDS and len(sentence_pair[1].split(\" \")) < MAX_WORDS:\n",
    "      updated_sentence_pairs.append(sentence_pair)\n",
    "  return updated_sentence_pairs"
   ]
  },
  {
   "cell_type": "code",
   "execution_count": 7,
   "metadata": {
    "id": "KSRDEuMAi5b4"
   },
   "outputs": [],
   "source": [
    "# Function to prepare data for input to model\n",
    "def prepare_data(language1_name, language2_name, reverse=False):\n",
    "  \n",
    "  # Reading languages\n",
    "  input_language, output_language, sentence_pairs = read_languages(language1_name, language2_name, reverse)\n",
    "  print(\"Total sentence pairs:\", len(sentence_pairs))\n",
    "  \n",
    "  # Filtering sentence pairs\n",
    "  sentence_pairs = filter_sentence_pairs(sentence_pairs)\n",
    "  print(\"Filtered sentence pairs:\", len(sentence_pairs))\n",
    "\n",
    "  # Adding sentences in languages\n",
    "  for sentence_pair in sentence_pairs:\n",
    "    input_language.add_sentence(sentence_pair[0])\n",
    "    output_language.add_sentence(sentence_pair[1])\n",
    "  print(\"Total words (\", input_language.name, \"): \", input_language.n_words, sep=\"\")\n",
    "  print(\"Total words (\", output_language.name, \"): \", output_language.n_words, sep=\"\")\n",
    "\n",
    "  return input_language, output_language, sentence_pairs"
   ]
  },
  {
   "cell_type": "code",
   "execution_count": 8,
   "metadata": {
    "id": "Z-jw2mb-Cyi1"
   },
   "outputs": [],
   "source": [
    "# Function to create a tensor from sentence\n",
    "def get_tensor_from_sentence(language, sentence):\n",
    "  indices = [language.word_to_index[word] for word in sentence.split(\" \")]\n",
    "  indices.append(EOS_TOKEN)\n",
    "  return torch.tensor(indices, dtype=torch.long, device=device).view(-1, 1)\n",
    "\n",
    "# Function to create tensors from sentence pairs\n",
    "def get_tensors_from_sentence_pair(input_language, output_language, sentence_pair):\n",
    "  input_tensor = get_tensor_from_sentence(input_language, sentence_pair[0])\n",
    "  target_tensor = get_tensor_from_sentence(output_language, sentence_pair[1])\n",
    "  return input_tensor, target_tensor"
   ]
  },
  {
   "cell_type": "code",
   "execution_count": 9,
   "metadata": {
    "colab": {
     "base_uri": "https://localhost:8080/"
    },
    "id": "cILewS67IdVt",
    "outputId": "21c09e08-712f-449b-baf1-68656ed36a6f"
   },
   "outputs": [
    {
     "name": "stdout",
     "output_type": "stream",
     "text": [
      "Total sentence pairs: 100000\n",
      "Filtered sentence pairs: 4322\n",
      "Total words (English): 4057\n",
      "Total words (Urdu): 3832\n"
     ]
    },
    {
     "data": {
      "text/plain": [
       "['ہماری؟', ' We ?']"
      ]
     },
     "execution_count": 9,
     "metadata": {},
     "output_type": "execute_result"
    }
   ],
   "source": [
    "# Loading languages data\n",
    "input_language, output_language, sentence_pairs = prepare_data(\"English\", \"Urdu\", True)\n",
    "random.choice(sentence_pairs)"
   ]
  },
  {
   "cell_type": "markdown",
   "metadata": {
    "id": "FHxArBMCOkdp"
   },
   "source": [
    "## Splitting data (Train and Test):"
   ]
  },
  {
   "cell_type": "code",
   "execution_count": 10,
   "metadata": {
    "colab": {
     "base_uri": "https://localhost:8080/"
    },
    "id": "Q43Uch3ZOjat",
    "outputId": "bfdbfacd-3f81-47bc-8195-c99ed6ace450"
   },
   "outputs": [
    {
     "data": {
      "text/plain": [
       "(3673, 649)"
      ]
     },
     "execution_count": 10,
     "metadata": {},
     "output_type": "execute_result"
    }
   ],
   "source": [
    "# Splitting data into train and test\n",
    "train_sentence_pairs, test_sentence_pairs = train_test_split(sentence_pairs, test_size=0.15)\n",
    "len(train_sentence_pairs), len(test_sentence_pairs)"
   ]
  },
  {
   "cell_type": "markdown",
   "metadata": {
    "id": "XpX8SNyBJUWZ"
   },
   "source": [
    "## The Encoder:"
   ]
  },
  {
   "cell_type": "code",
   "execution_count": 11,
   "metadata": {
    "id": "9JLiE45zIp8E"
   },
   "outputs": [],
   "source": [
    "# Encoder (RNN) class\n",
    "class EncoderRNN(nn.Module):\n",
    "\n",
    "  def __init__(self, input_size, hidden_size):\n",
    "    super(EncoderRNN, self).__init__()\n",
    "    self.hidden_size = hidden_size\n",
    "    self.embedding = nn.Embedding(input_size, hidden_size)\n",
    "    self.gru = nn.GRU(hidden_size, hidden_size)\n",
    "\n",
    "  def forward(self, input, hidden):\n",
    "    embedded = self.embedding(input).view(1, 1, -1)\n",
    "    output = embedded\n",
    "    output, hidden = self.gru(output, hidden)\n",
    "    return output, hidden\n",
    "\n",
    "  def initHidden(self):\n",
    "    return torch.zeros(1, 1, self.hidden_size, device=device)"
   ]
  },
  {
   "cell_type": "markdown",
   "metadata": {
    "id": "v5wJ1jV6Jb7Q"
   },
   "source": [
    "## The Decoder:"
   ]
  },
  {
   "cell_type": "code",
   "execution_count": 12,
   "metadata": {
    "id": "UZEE89h11P_b"
   },
   "outputs": [],
   "source": [
    "# Attention decoder (RNN) class\n",
    "class AttentionDecoderRNN(nn.Module):\n",
    "  \n",
    "  def __init__(self, hidden_size, output_size, dropout_p=0.1, max_length=MAX_WORDS):\n",
    "    super(AttentionDecoderRNN, self).__init__()\n",
    "    self.hidden_size = hidden_size\n",
    "    self.output_size = output_size\n",
    "    self.dropout_p = dropout_p\n",
    "    self.max_length = max_length\n",
    "    self.embedding = nn.Embedding(output_size, hidden_size)\n",
    "    self.attention = nn.Linear(self.hidden_size * 2, self.max_length)\n",
    "    self.attention_combine = nn.Linear(self.hidden_size * 2, self.hidden_size)\n",
    "    self.dropout = nn.Dropout(self.dropout_p)\n",
    "    self.gru = nn.GRU(self.hidden_size, self.hidden_size)\n",
    "    self.out = nn.Linear(self.hidden_size, self.output_size)\n",
    "\n",
    "  def forward(self, input, hidden, encoder_outputs):\n",
    "    embedded = self.embedding(input).view(1, 1, -1)\n",
    "    embedded = self.dropout(embedded)\n",
    "    attention_weights = F.softmax(self.attention(torch.cat((embedded[0], hidden[0]), 1)), dim=1)\n",
    "    attention_applied = torch.bmm(attention_weights.unsqueeze(0), encoder_outputs.unsqueeze(0))\n",
    "    output = torch.cat((embedded[0], attention_applied[0]), 1)\n",
    "    output = self.attention_combine(output).unsqueeze(0)\n",
    "    output = F.relu(output)\n",
    "    output, hidden = self.gru(output, hidden)\n",
    "    output = F.log_softmax(self.out(output[0]), dim=1)\n",
    "    return output, hidden, attention_weights\n",
    "\n",
    "  def initHidden(self):\n",
    "    return torch.zeros(1, 1, self.hidden_size, device=device)"
   ]
  },
  {
   "cell_type": "markdown",
   "metadata": {
    "id": "CRx-8nXfJlC6"
   },
   "source": [
    "## Sequence to Sequence Model:"
   ]
  },
  {
   "cell_type": "code",
   "execution_count": 13,
   "metadata": {
    "id": "MRfv7tkyFS9y"
   },
   "outputs": [],
   "source": [
    "# Function to train sequence to sequence neural network model\n",
    "def train(input_tensor, target_tensor, encoder, decoder, encoder_optimizer, decoder_optimizer, criterion, max_length=MAX_WORDS, teacher_forcing_ratio=0.5):\n",
    "  encoder_hidden = encoder.initHidden()\n",
    "  encoder_optimizer.zero_grad()\n",
    "  decoder_optimizer.zero_grad()\n",
    "  input_length = input_tensor.size(0)\n",
    "  target_length = target_tensor.size(0)  \n",
    "  encoder_outputs = torch.zeros(max_length, encoder.hidden_size, device=device)\n",
    "  loss = 0\n",
    "\n",
    "  # Encoder feed forward mechanism\n",
    "  for i in range(input_length):\n",
    "    encoder_output, encoder_hidden = encoder(input_tensor[i], encoder_hidden)\n",
    "    encoder_outputs[i] = encoder_output[0, 0]\n",
    "\n",
    "  decoder_input = torch.tensor([[SOS_TOKEN]], device=device)\n",
    "  decoder_hidden = encoder_hidden\n",
    "  use_teacher_forcing = True if random.random() < teacher_forcing_ratio else False\n",
    "\n",
    "  # Decoder feed forward mechanism\n",
    "  if use_teacher_forcing: # Teacher forcing: Feed the target as the next input\n",
    "    for i in range(target_length):\n",
    "      decoder_output, decoder_hidden, decoder_attention = decoder(decoder_input, decoder_hidden, encoder_outputs)\n",
    "      loss += criterion(decoder_output, target_tensor[i])\n",
    "      decoder_input = target_tensor[i]  # Teacher forcing\n",
    "  else:\n",
    "    for i in range(target_length):\n",
    "      decoder_output, decoder_hidden, decoder_attention = decoder(decoder_input, decoder_hidden, encoder_outputs)\n",
    "      topv, topi = decoder_output.topk(1)\n",
    "      decoder_input = topi.squeeze().detach()  # detach from history as input\n",
    "      loss += criterion(decoder_output, target_tensor[i])\n",
    "      if decoder_input.item() == EOS_TOKEN:\n",
    "        break\n",
    "\n",
    "  loss.backward()\n",
    "  encoder_optimizer.step()\n",
    "  decoder_optimizer.step()\n",
    "  return loss.item()"
   ]
  },
  {
   "cell_type": "code",
   "execution_count": 14,
   "metadata": {
    "id": "UUZwXYcpbFUD"
   },
   "outputs": [],
   "source": [
    "# Function to evaluate sequence to sequence neural network model\n",
    "def evaluate(encoder, decoder, sentence, max_length=MAX_WORDS):\n",
    "  with torch.no_grad():\n",
    "    input_tensor = get_tensor_from_sentence(input_language, sentence)\n",
    "    input_length = input_tensor.size()[0]\n",
    "    encoder_hidden = encoder.initHidden()\n",
    "    encoder_outputs = torch.zeros(max_length, encoder.hidden_size, device=device)\n",
    "\n",
    "    # Encoder feed forward mechanism\n",
    "    for i in range(input_length):\n",
    "        encoder_output, encoder_hidden = encoder(input_tensor[i],encoder_hidden)\n",
    "        encoder_outputs[i] += encoder_output[0, 0]\n",
    "\n",
    "    decoder_input = torch.tensor([[SOS_TOKEN]], device=device)  # SOS\n",
    "    decoder_hidden = encoder_hidden\n",
    "    decoded_words = []\n",
    "    decoder_attentions = torch.zeros(max_length, max_length)\n",
    "\n",
    "    # Decoder feed forward mechanism\n",
    "    for di in range(max_length):\n",
    "        decoder_output, decoder_hidden, decoder_attention = decoder(decoder_input, decoder_hidden, encoder_outputs)\n",
    "        decoder_attentions[di] = decoder_attention.data\n",
    "        topv, topi = decoder_output.data.topk(1)\n",
    "        if topi.item() == EOS_TOKEN:\n",
    "            decoded_words.append('<EOS>')\n",
    "            break\n",
    "        else:\n",
    "            decoded_words.append(output_language.index_to_word[topi.item()])\n",
    "        decoder_input = topi.squeeze().detach()\n",
    "\n",
    "    return decoded_words, decoder_attentions[:di + 1]"
   ]
  },
  {
   "cell_type": "markdown",
   "metadata": {
    "id": "UBSJEm-1Jt9Z"
   },
   "source": [
    "## Model Training:"
   ]
  },
  {
   "cell_type": "code",
   "execution_count": 15,
   "metadata": {
    "id": "qgUhwb-tMh7g"
   },
   "outputs": [],
   "source": [
    "# Function to start model training\n",
    "def start_training(encoder, decoder, n_iterations, train_tensors, learning_rate=0.01):\n",
    "\n",
    "  # Setting optimizers\n",
    "  encoder_optimizer = optim.SGD(encoder.parameters(), lr=learning_rate)\n",
    "  decoder_optimizer = optim.SGD(decoder.parameters(), lr=learning_rate)\n",
    "  \n",
    "  # Setting loss criteria\n",
    "  criterion = nn.NLLLoss()\n",
    "\n",
    "  # Initializing losses list (Of all iterations)\n",
    "  losses = []\n",
    "  total_loss = 0\n",
    "\n",
    "  for i in tqdm(range(n_iterations)):\n",
    "    train_tensor = train_tensors[i % len(train_tensors)]\n",
    "    input_tensor = train_tensor[0]\n",
    "    target_tensor = train_tensor[1]\n",
    "    loss = train(input_tensor, target_tensor, encoder, decoder, encoder_optimizer, decoder_optimizer, criterion)\n",
    "    total_loss += loss\n",
    "\n",
    "    # After whole batch is processed\n",
    "    if i % len(train_tensors) == 0 and i != 0: # Exclude first iteration\n",
    "      average_loss = total_loss / len(train_tensors)\n",
    "      losses.append(average_loss)\n",
    "      total_loss = 0\n",
    "  return losses"
   ]
  },
  {
   "cell_type": "code",
   "execution_count": 16,
   "metadata": {
    "id": "UQR1bUwzNFl-"
   },
   "outputs": [],
   "source": [
    "# Initializing hyperparameters\n",
    "n_iterations = 100000\n",
    "hidden_size = 256\n",
    "train_tensors = [get_tensors_from_sentence_pair(input_language, output_language, train_sentence_pair) for train_sentence_pair in train_sentence_pairs]\n",
    "encoderRNN = EncoderRNN(input_language.n_words, hidden_size).to(device)\n",
    "decoderRNN = AttentionDecoderRNN(hidden_size, output_language.n_words).to(device)"
   ]
  },
  {
   "cell_type": "code",
   "execution_count": 17,
   "metadata": {
    "colab": {
     "base_uri": "https://localhost:8080/"
    },
    "id": "i553stLtIL-r",
    "outputId": "47b5471d-5576-466b-e2bf-e25b58c01807"
   },
   "outputs": [
    {
     "name": "stderr",
     "output_type": "stream",
     "text": [
      "100%|██████████| 100000/100000 [1:23:07<00:00, 20.05it/s]\n"
     ]
    }
   ],
   "source": [
    "# Starting model training\n",
    "losses = start_training(encoderRNN, decoderRNN, n_iterations, train_tensors)"
   ]
  },
  {
   "cell_type": "code",
   "execution_count": 18,
   "metadata": {
    "colab": {
     "base_uri": "https://localhost:8080/",
     "height": 265
    },
    "id": "14pxV3ktjsOu",
    "outputId": "86b1bd03-a217-4f01-e366-cd5327b909be"
   },
   "outputs": [
    {
     "data": {
      "image/png": "[encoded data removed]",
      "text/plain": [
       "<Figure size 432x288 with 1 Axes>"
      ]
     },
     "metadata": {
      "needs_background": "light"
     },
     "output_type": "display_data"
    }
   ],
   "source": [
    "# Plotting losses of iterations\n",
    "sns.lineplot(data=losses)\n",
    "plt.show()"
   ]
  },
  {
   "cell_type": "markdown",
   "metadata": {
    "id": "3kvVrZ1xJ1RH"
   },
   "source": [
    "## Model Evaluation:"
   ]
  },
  {
   "cell_type": "code",
   "execution_count": 19,
   "metadata": {
    "id": "gHA_Abe7N6Fd"
   },
   "outputs": [],
   "source": [
    "# Method to evaluate model on test data\n",
    "def start_evaluation(encoder, decoder, test_sentence_pairs, n=5):\n",
    "  actual_translations = []\n",
    "  predicted_translations = []\n",
    "  for i in range(n):\n",
    "    test_sentence_pair = random.choice(test_sentence_pairs)\n",
    "    print(\"Sentence:\", test_sentence_pair[0])\n",
    "    print(\"Actual translation:\", test_sentence_pair[1])\n",
    "    output_translated_words, attentions = evaluate(encoder, decoder, test_sentence_pair[0])\n",
    "    output_translation = ' '.join(output_translated_words)\n",
    "    print(\"Predicted translation:\", output_translation)\n",
    "    print()\n",
    "    actual_translations.append(test_sentence_pair[1])\n",
    "    predicted_translations.append(output_translation)\n",
    "  return actual_translations, predicted_translations"
   ]
  },
  {
   "cell_type": "code",
   "execution_count": 20,
   "metadata": {
    "colab": {
     "base_uri": "https://localhost:8080/"
    },
    "id": "TjflOedj6hU_",
    "outputId": "958ad155-138d-4f66-f621-fcbdf7312488"
   },
   "outputs": [
    {
     "name": "stdout",
     "output_type": "stream",
     "text": [
      "Sentence: میں مل گیا۔\n",
      "Actual translation: He found me .\n",
      "Predicted translation: He found me . <EOS>\n",
      "\n",
      "Sentence: جھگڑنا ۔\n",
      "Actual translation: Pull caps .\n",
      "Predicted translation: Pull caps . <EOS>\n",
      "\n",
      "Sentence: یہ میرا ہے:\n",
      "Actual translation: Here is mine \n",
      "Predicted translation: Here is mine  <EOS>\n",
      "\n",
      "Sentence: کنجوس شخص\n",
      "Actual translation: A close fisted man\n",
      "Predicted translation: A close fisted man <EOS>\n",
      "\n",
      "Sentence: خمیازہ بھگتنا\n",
      "Actual translation: Face the music\n",
      "Predicted translation: Face the music <EOS>\n",
      "\n",
      "Sentence: امیر ۔\n",
      "Actual translation: Well off .\n",
      "Predicted translation: Well off . <EOS>\n",
      "\n",
      "Sentence: علامہ محمد یوسف ۔\n",
      "Actual translation: Allama Muhammad Yusuf .\n",
      "Predicted translation: Allama Muhammad Yusuf . <EOS>\n",
      "\n",
      "Sentence: نیا حاصل شدہ ۔\n",
      "Actual translation: New fangled .\n",
      "Predicted translation: New fangled . <EOS>\n",
      "\n",
      "Sentence: حقوق کے بل\n",
      "Actual translation: Bill of Rights\n",
      "Predicted translation: Bill of Rights <EOS>\n",
      "\n",
      "Sentence: ٹیکسٹنگ سافٹ ویئر\n",
      "Actual translation: Texting Software\n",
      "Predicted translation: Texting Software <EOS>\n",
      "\n"
     ]
    }
   ],
   "source": [
    "# Starting model evaluation on test set\n",
    "actual_translations, predicted_translations = start_evaluation(encoderRNN, decoderRNN, train_sentence_pairs, 10)"
   ]
  },
  {
   "cell_type": "code",
   "execution_count": 21,
   "metadata": {
    "colab": {
     "base_uri": "https://localhost:8080/"
    },
    "id": "8-o3CyAz6on2",
    "outputId": "af61ccb4-0d42-4105-e7fe-c9adf47bf955"
   },
   "outputs": [
    {
     "data": {
      "text/plain": [
       "tensor(0.7619)"
      ]
     },
     "execution_count": 21,
     "metadata": {},
     "output_type": "execute_result"
    }
   ],
   "source": [
    "# Bleu score of actual and predicted translations (Train set)\n",
    "metric = BLEUScore(n_gram=1)\n",
    "references = [[actual_translation] for actual_translation in actual_translations]\n",
    "metric(predicted_translations, references)"
   ]
  },
  {
   "cell_type": "code",
   "execution_count": 22,
   "metadata": {
    "colab": {
     "base_uri": "https://localhost:8080/"
    },
    "id": "_s1srQ8tOc84",
    "outputId": "e29a0484-bbfd-4fc8-a93d-f3d4382ccd74"
   },
   "outputs": [
    {
     "name": "stdout",
     "output_type": "stream",
     "text": [
      "Sentence: نشان.barabak @ latimes.com\n",
      "Actual translation: mark .barabak latimes .com\n",
      "Predicted translation:  Report Khan  <EOS>\n",
      "\n",
      "Sentence: لات ، Godzilla.\n",
      "Actual translation: DAMN GODZILLA .\n",
      "Predicted translation: To look with . <EOS>\n",
      "\n",
      "Sentence: ادلے کا بدلہ\n",
      "Actual translation: tit for tat\n",
      "Predicted translation: Tit for tat <EOS>\n",
      "\n",
      "Sentence: بہت زیادہ ۔\n",
      "Actual translation: A fat lot .\n",
      "Predicted translation: No end . <EOS>\n",
      "\n",
      "Sentence: msnbc.com ویڈیو پلیئر\n",
      "Actual translation: msnbc .com Video Player\n",
      "Predicted translation: KM Player <EOS>\n",
      "\n",
      "Sentence: بیکار آدمی  ۔\n",
      "Actual translation: Rotten egg .\n",
      "Predicted translation: Rotten egg . <EOS>\n",
      "\n",
      "Sentence: بڑی شخصیت\t\n",
      "Actual translation: Big gun\n",
      "Predicted translation: Big gun <EOS>\n",
      "\n",
      "Sentence: (istockphoto)\n",
      "Actual translation:  istockphoto \n",
      "Predicted translation: The <EOS>\n",
      "\n",
      "Sentence: چھوٹی سی بات\n",
      "Actual translation: Little thing\n",
      "Predicted translation: Small will great <EOS>\n",
      "\n",
      "Sentence: موجود\n",
      "Actual translation: Possessed ?\n",
      "Predicted translation: Not . <EOS>\n",
      "\n"
     ]
    }
   ],
   "source": [
    "# Starting model evaluation on test set\n",
    "actual_translations, predicted_translations = start_evaluation(encoderRNN, decoderRNN, test_sentence_pairs, 10)"
   ]
  },
  {
   "cell_type": "code",
   "execution_count": 23,
   "metadata": {
    "colab": {
     "base_uri": "https://localhost:8080/"
    },
    "id": "eO_w-mzbYoNK",
    "outputId": "e2e27fc8-6091-443d-c371-1654dcc2ec0e"
   },
   "outputs": [
    {
     "data": {
      "text/plain": [
       "tensor(0.2857)"
      ]
     },
     "execution_count": 23,
     "metadata": {},
     "output_type": "execute_result"
    }
   ],
   "source": [
    "# Bleu score of actual and predicted translations (Test set)\n",
    "metric = BLEUScore(n_gram=1)\n",
    "references = [[actual_translation] for actual_translation in actual_translations]\n",
    "metric(predicted_translations, references)"
   ]
  },
  {
   "cell_type": "code",
   "execution_count": 23,
   "metadata": {
    "id": "XwBN4SrnvLVT"
   },
   "outputs": [],
   "source": []
  }
 ],
 "metadata": {
  "colab": {
   "provenance": []
  },
  "kernelspec": {
   "display_name": "Python 3 (ipykernel)",
   "language": "python",
   "name": "python3"
  },
  "language_info": {
   "codemirror_mode": {
    "name": "ipython",
    "version": 3
   },
   "file_extension": ".py",
   "mimetype": "text/x-python",
   "name": "python",
   "nbconvert_exporter": "python",
   "pygments_lexer": "ipython3",
   "version": "3.10.8"
  }
 },
 "nbformat": 4,
 "nbformat_minor": 1
}
